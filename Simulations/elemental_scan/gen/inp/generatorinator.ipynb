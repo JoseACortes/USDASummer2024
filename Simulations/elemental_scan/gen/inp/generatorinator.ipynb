{
 "cells": [
  {
   "cell_type": "code",
   "execution_count": 1,
   "metadata": {},
   "outputs": [],
   "source": [
    "import pandas as pd\n",
    "import numpy as np"
   ]
  },
  {
   "cell_type": "code",
   "execution_count": 2,
   "metadata": {},
   "outputs": [],
   "source": [
    "import input_generator as gen"
   ]
  },
  {
   "cell_type": "code",
   "execution_count": 3,
   "metadata": {},
   "outputs": [],
   "source": [
    "# config\n",
    "x=15\n",
    "z=25\n",
    "\n",
    "input_folder = '../../compute/input/'\n"
   ]
  },
  {
   "cell_type": "code",
   "execution_count": 4,
   "metadata": {},
   "outputs": [],
   "source": [
    "\n",
    "Ba_Sheilding_Material = gen.Material(\"Ba_Sheilding\", 3, {\n",
    "                                                        1001: -0.048535,\n",
    "                                                        5010: -0.034981,\n",
    "                                                        5011: -0.139923,\n",
    "                                                        8016: -0.776561,\n",
    "                                                        })\n",
    "Pb_Sheilding_Material = gen.Material(\"Pb_Sheilding\", 4, {\n",
    "                                                        82000: 1,\n",
    "                                                        })\n",
    "Fe_Sheilding_Material = gen.Material(\"Fe_Sheilding\", 5, {\n",
    "                                                        26000: 1,\n",
    "                                                        })\n",
    "Detector_Material = gen.Material(\"Detector\", 7, {\n",
    "                                                        11023: 0.5,\n",
    "                                                        53127: 0.5,\n",
    "                                                    })\n",
    "Air_Material = gen.Material(\"Air\", 12, {\n",
    "                                                        8016: -0.23,\n",
    "                                                        7014: -0.77,\n",
    "                                                    })\n",
    "Tire_Material = gen.Material(\"Tire\", 13, {\n",
    "                                                        1001: -0.118371,\n",
    "                                                        6000: -0.881629,\n",
    "                                                    })\n",
    "\n",
    "static_materials = [Ba_Sheilding_Material, Pb_Sheilding_Material, Fe_Sheilding_Material, Detector_Material, Air_Material, Tire_Material]"
   ]
  },
  {
   "cell_type": "code",
   "execution_count": 5,
   "metadata": {},
   "outputs": [],
   "source": [
    "def place_shield(shield_ids, x, y, z):\n",
    "    \n",
    "    Front_Pb_shield_surface = gen.box(shield_ids[0], [x+37.5, y+0, z+5], 5, 60.1, 20)\n",
    "    Front_Fe_shield_1_surface = gen.box(shield_ids[1], [x+32.5, y+0, z+5], 5, 55, 20)\n",
    "    Front_Ba_shield_surface = gen.box(shield_ids[2], [x+25, y+0, z+5], 10, 55, 20)\n",
    "    Front_Fe_shield_2_surface = gen.box(shield_ids[3], [x+17.5, y+0, z+5], 5, 55, 20)\n",
    "    Right_Fe_shield_surface = gen.box(shield_ids[4], [x-8, y+16.25, z+5], 46, 2.5, 20)\n",
    "    Right_Ba_shield_surface = gen.box(shield_ids[5], [x-8, y+22.5, z+5], 46, 10, 20)\n",
    "    Left_Fe_shield_surface = gen.box(shield_ids[6], [x-8, y-16.25, z+5], 46, 2.5, 20)\n",
    "    Left_Ba_shield_surface = gen.box(shield_ids[7], [x-8, y-22.5, z+5], 46, 10, 20)\n",
    "\n",
    "    return [Front_Pb_shield_surface, Front_Fe_shield_1_surface, Front_Ba_shield_surface, Front_Fe_shield_2_surface, Right_Fe_shield_surface, Right_Ba_shield_surface, Left_Fe_shield_surface, Left_Ba_shield_surface]\n"
   ]
  },
  {
   "cell_type": "code",
   "execution_count": 6,
   "metadata": {},
   "outputs": [],
   "source": [
    "def place_wheel(wheel_ids, x=0, y=0, z=0, dir=(0, 1, 0)):\n",
    "    wheel_radius = 15.24\n",
    "    tire_radius = 29\n",
    "    tire_width = 25\n",
    "    tread_thickness = 1.3\n",
    "    tire_surface = gen.cylinder(wheel_ids[0], pos = (x, y, z), r = tire_radius, height = tire_width, dir=dir)\n",
    "    wheel_surface = gen.cylinder(wheel_ids[1], pos=(x, y, z), r = wheel_radius, height=tire_width, dir=dir)\n",
    "    \n",
    "    normal_dir = gen.normalize(dir)\n",
    "    inside_tire_fix = [tread_thickness*d for d in normal_dir]\n",
    "    inside_tire_xyz = [inside_tire_fix[i]+[x,y,z][i] for i in range(3)]\n",
    "    inside_tire_surface = gen.cylinder(wheel_ids[2], pos = inside_tire_xyz, r = tire_radius-tread_thickness, height = tire_width-tread_thickness*2, dir=dir)\n",
    "    \n",
    "    return [tire_surface, wheel_surface, inside_tire_surface]\n"
   ]
  },
  {
   "cell_type": "code",
   "execution_count": 7,
   "metadata": {},
   "outputs": [],
   "source": [
    "def place_detector(detector_ids, x, y, z):\n",
    "    detector_1_surface = gen.box(detector_ids[0], pos=(x, y+14.7, z), l=12.7, w=12.7, h=15.24)\n",
    "    detector_2_surface = gen.box(detector_ids[1], pos=(x, y, z), l=12.7, w=12.7, h=15.24)\n",
    "    detector_3_surface = gen.box(detector_ids[2], pos=(x, y-14.7, z), l=12.7, w=12.7, h=15.24)\n",
    "    return [detector_1_surface, detector_2_surface, detector_3_surface]\n"
   ]
  },
  {
   "cell_type": "code",
   "execution_count": 8,
   "metadata": {},
   "outputs": [],
   "source": [
    "Outer_Bound = gen.sphere(100000, [0, 0, 0], 800)\n",
    "Shield_Surfaces = place_shield([i for i in range(5000, 13000, 1000)], 0, 0, 0)\n",
    "static_surfaces = [Outer_Bound] + Shield_Surfaces"
   ]
  },
  {
   "cell_type": "code",
   "execution_count": 9,
   "metadata": {},
   "outputs": [],
   "source": [
    "detectors_surface = place_detector([2000, 3000, 4000], x+40, 0, 3)\n",
    "soil_surface = gen.box(1000, [0, 0, -25-z], 200, 200, 50)\n",
    "tire_1_surface = place_wheel([13000, 14000, 15000], 68, -75.7, 29-z, (0, 1, 0))\n",
    "tire_2_surface = place_wheel([16000, 17000, 18000], 68, 75.7, 29-z, (0, -1, 0))\n",
    "static_surfaces += detectors_surface + [soil_surface] + tire_1_surface + tire_2_surface"
   ]
  },
  {
   "cell_type": "code",
   "execution_count": 10,
   "metadata": {},
   "outputs": [],
   "source": [
    "soil_material_id = 1\n",
    "\n",
    "outside_world = gen.cell(101, 'outside_world', 0, None, '100000', importance='imp:n,p,e 0')\n",
    "air_cell = gen.cell(100, 'air', Air_Material.id, -0.00129, '#101 #1 #2 #3 #4 #5 #6 #7 #8 #9 #10 #11 #12 #13 #16', importance='imp:n,p,e 1')\n",
    "soil_cell = gen.cell(1, 'soil', soil_material_id, -1.05, '-1000', importance='imp:n,p,e 1')\n",
    "detector_1_cell = gen.cell(2, 'detector_1', Detector_Material.id, -3.67, '-2000', importance='imp:n,p,e 1')\n",
    "detector_2_cell = gen.cell(3, 'detector_2', Detector_Material.id, -3.67, '-3000', importance='imp:n,p,e 1')\n",
    "detector_3_cell = gen.cell(4, 'detector_3', Detector_Material.id, -3.67, '-4000', importance='imp:n,p,e 1')\n",
    "Front_Pb_shield_cell = gen.cell(5, 'Front_Pb_shield', Pb_Sheilding_Material.id, -11.35, '-5000', importance='imp:n,p,e 1')\n",
    "Front_Fe_shield_1_cell = gen.cell(6, 'Front_Fe_shield_1', Fe_Sheilding_Material.id, -7.874, '-6000', importance='imp:n,p,e 1')\n",
    "Front_Ba_shield_cell = gen.cell(7, 'Front_Ba_shield', Ba_Sheilding_Material.id, -1.5, '-7000', importance='imp:n,p,e 1')\n",
    "Front_Fe_shield_2_cell = gen.cell(8, 'Front_Fe_shield_2', Fe_Sheilding_Material.id, -7.874, '-8000', importance='imp:n,p,e 1')\n",
    "Right_Fe_shield_cell = gen.cell(9, 'Right_Fe_shield', Fe_Sheilding_Material.id, -7.874, '-9000', importance='imp:n,p,e 1')\n",
    "Right_Ba_shield_cell = gen.cell(10, 'Right_Ba_shield', Ba_Sheilding_Material.id, -1.5, '-10000', importance='imp:n,p,e 1')\n",
    "Left_Fe_shield_cell = gen.cell(11, 'Left_Fe_shield', Fe_Sheilding_Material.id, -7.874, '-11000', importance='imp:n,p,e 1')\n",
    "Left_Ba_shield_cell = gen.cell(12, 'Left_Ba_shield', Ba_Sheilding_Material.id, -1.5, '-12000', importance='imp:n,p,e 1')\n",
    "tire_1_cell = gen.cell(13, 'tire_1', Tire_Material.id, -0.92, '-13000 14000 15000', importance='imp:n,p,e 1')\n",
    "tire_2_cell = gen.cell(16, 'tire_2', Tire_Material.id, -0.92, '-16000 17000 18000', importance='imp:n,p,e 1')\n",
    "\n",
    "cells = [outside_world, soil_cell, detector_1_cell, detector_2_cell, detector_3_cell, Front_Pb_shield_cell, Front_Fe_shield_1_cell, Front_Ba_shield_cell, Front_Fe_shield_2_cell, Right_Fe_shield_cell, Right_Ba_shield_cell, Left_Fe_shield_cell, Left_Ba_shield_cell, tire_1_cell, tire_2_cell, air_cell]\n",
    "\n"
   ]
  },
  {
   "cell_type": "code",
   "execution_count": 11,
   "metadata": {},
   "outputs": [],
   "source": [
    "source = gen.source(1, (0, 0, 0), 14)"
   ]
  },
  {
   "cell_type": "code",
   "execution_count": 12,
   "metadata": {},
   "outputs": [],
   "source": [
    "gebs = [None, [-0.0073, 0.078, 0]]\n",
    "time_bins = ['50 1e5','0 150i 150']\n",
    "tmcs = [None, [0,50]]\n",
    "\n",
    "n_tallies = len(gebs) * len(time_bins) * len(tmcs)\n",
    "tal_headers = [i for i in range(1, n_tallies+1)]\n",
    "i=0\n",
    "tallies = []\n",
    "for geb in gebs:\n",
    "    for time_bin in time_bins:\n",
    "        for tmc in tmcs:\n",
    "            i+=1\n",
    "            tallies.append(\n",
    "                gen.tally(\n",
    "                    tally_id=(i*10)+6,\n",
    "                    tally_type=6,\n",
    "                    particle='e', \n",
    "                    cells='(2 3 4)',\n",
    "                    ))\n",
    "            tallies.append(\n",
    "                gen.tally(\n",
    "                    tally_id=(i*10)+8,\n",
    "                    tally_type=8,\n",
    "                    particle='p', \n",
    "                    cells='(2 3 4)',\n",
    "                    energy_bins='0 1e-5 932i 8.4295',\n",
    "                    time_bins=time_bin,\n",
    "                    geb=geb,\n",
    "                    tmc=tmc,\n",
    "                    phl=(i*10)+6,\n",
    "                    ))"
   ]
  },
  {
   "cell_type": "code",
   "execution_count": 13,
   "metadata": {},
   "outputs": [],
   "source": [
    "c0_compposition = {6000: -0.2700, 1001: -0.0075, 14000: -0.3092, 8016: -0.4133}\n",
    "c1_compposition = {6000: -0.1870, 1001: -0.0052, 14000: -0.3576, 8016: -0.4502}\n",
    "c2_compposition = {6000: -0.1150, 1001: -0.0032, 14000: -0.3996, 8016: -0.4822}\n",
    "c3_compposition = {6000: -0.0532, 1001: -0.0015, 14000: -0.4356, 8016: -0.5097}\n",
    "c4_compposition = {6000: -0.0258, 1001: -0.0007, 14000: -0.4516, 8016: -0.5219}\n",
    "c5_compposition = {6000: -0.0001, 1001: -0.0001, 14000: -0.4666, 8016: -0.5332}\n",
    "\n",
    "compositions = [c0_compposition, c1_compposition, c2_compposition, c3_compposition, c4_compposition, c5_compposition]"
   ]
  },
  {
   "cell_type": "code",
   "execution_count": 14,
   "metadata": {},
   "outputs": [
    {
     "name": "stderr",
     "output_type": "stream",
     "text": [
      "/home/jac2462@uta.edu/.local/lib/python3.10/site-packages/matplotlib/projections/__init__.py:63: UserWarning: Unable to import Axes3D. This may be due to multiple versions of Matplotlib being installed (e.g. as a system package and as a pip package). As a result, the 3D projection is not available.\n",
      "  warnings.warn(\"Unable to import Axes3D. This may be due to multiple versions of \"\n"
     ]
    },
    {
     "data": {
      "text/plain": [
       "<Axes: >"
      ]
     },
     "execution_count": 14,
     "metadata": {},
     "output_type": "execute_result"
    },
    {
     "data": {
      "image/png": "[encoded data removed]",
      "text/plain": [
       "<Figure size 640x480 with 1 Axes>"
      ]
     },
     "metadata": {},
     "output_type": "display_data"
    }
   ],
   "source": [
    "pd.DataFrame(compositions).plot()"
   ]
  },
  {
   "cell_type": "code",
   "execution_count": 15,
   "metadata": {},
   "outputs": [
    {
     "name": "stdout",
     "output_type": "stream",
     "text": [
      "../../compute/input/concentration_C_27_Si_3092.inp\n",
      "../../compute/input/concentration_C_187_Si_3576.inp\n",
      "../../compute/input/concentration_C_115_Si_3996.inp\n",
      "../../compute/input/concentration_C_0532_Si_4356.inp\n",
      "../../compute/input/concentration_C_0258_Si_4516.inp\n",
      "../../compute/input/concentration_C_0001_Si_4666.inp\n"
     ]
    },
    {
     "data": {
      "text/html": [
       "<div>\n",
       "<style scoped>\n",
       "    .dataframe tbody tr th:only-of-type {\n",
       "        vertical-align: middle;\n",
       "    }\n",
       "\n",
       "    .dataframe tbody tr th {\n",
       "        vertical-align: top;\n",
       "    }\n",
       "\n",
       "    .dataframe thead th {\n",
       "        text-align: right;\n",
       "    }\n",
       "</style>\n",
       "<table border=\"1\" class=\"dataframe\">\n",
       "  <thead>\n",
       "    <tr style=\"text-align: right;\">\n",
       "      <th></th>\n",
       "      <th>6000</th>\n",
       "      <th>1001</th>\n",
       "      <th>14000</th>\n",
       "      <th>8016</th>\n",
       "      <th>name</th>\n",
       "    </tr>\n",
       "  </thead>\n",
       "  <tbody>\n",
       "    <tr>\n",
       "      <th>0</th>\n",
       "      <td>-0.2700</td>\n",
       "      <td>-0.0075</td>\n",
       "      <td>-0.3092</td>\n",
       "      <td>-0.4133</td>\n",
       "      <td>concentration_C_27_Si_3092</td>\n",
       "    </tr>\n",
       "    <tr>\n",
       "      <th>1</th>\n",
       "      <td>-0.1870</td>\n",
       "      <td>-0.0052</td>\n",
       "      <td>-0.3576</td>\n",
       "      <td>-0.4502</td>\n",
       "      <td>concentration_C_187_Si_3576</td>\n",
       "    </tr>\n",
       "    <tr>\n",
       "      <th>2</th>\n",
       "      <td>-0.1150</td>\n",
       "      <td>-0.0032</td>\n",
       "      <td>-0.3996</td>\n",
       "      <td>-0.4822</td>\n",
       "      <td>concentration_C_115_Si_3996</td>\n",
       "    </tr>\n",
       "    <tr>\n",
       "      <th>3</th>\n",
       "      <td>-0.0532</td>\n",
       "      <td>-0.0015</td>\n",
       "      <td>-0.4356</td>\n",
       "      <td>-0.5097</td>\n",
       "      <td>concentration_C_0532_Si_4356</td>\n",
       "    </tr>\n",
       "    <tr>\n",
       "      <th>4</th>\n",
       "      <td>-0.0258</td>\n",
       "      <td>-0.0007</td>\n",
       "      <td>-0.4516</td>\n",
       "      <td>-0.5219</td>\n",
       "      <td>concentration_C_0258_Si_4516</td>\n",
       "    </tr>\n",
       "    <tr>\n",
       "      <th>5</th>\n",
       "      <td>-0.0001</td>\n",
       "      <td>-0.0001</td>\n",
       "      <td>-0.4666</td>\n",
       "      <td>-0.5332</td>\n",
       "      <td>concentration_C_0001_Si_4666</td>\n",
       "    </tr>\n",
       "  </tbody>\n",
       "</table>\n",
       "</div>"
      ],
      "text/plain": [
       "     6000    1001   14000    8016                          name\n",
       "0 -0.2700 -0.0075 -0.3092 -0.4133    concentration_C_27_Si_3092\n",
       "1 -0.1870 -0.0052 -0.3576 -0.4502   concentration_C_187_Si_3576\n",
       "2 -0.1150 -0.0032 -0.3996 -0.4822   concentration_C_115_Si_3996\n",
       "3 -0.0532 -0.0015 -0.4356 -0.5097  concentration_C_0532_Si_4356\n",
       "4 -0.0258 -0.0007 -0.4516 -0.5219  concentration_C_0258_Si_4516\n",
       "5 -0.0001 -0.0001 -0.4666 -0.5332  concentration_C_0001_Si_4666"
      ]
     },
     "execution_count": 15,
     "metadata": {},
     "output_type": "execute_result"
    }
   ],
   "source": [
    "names = []\n",
    "\n",
    "\n",
    "surfaces = static_surfaces\n",
    "cells = cells\n",
    "\n",
    "for _, composition in enumerate(compositions):\n",
    "\n",
    "    carbon = composition[6000]\n",
    "    silicon = composition[14000]\n",
    "\n",
    "    title = f\"concentration_C_{str(-carbon)[2:]}_Si_{str(-silicon)[2:]}\"\n",
    "\n",
    "    filename = input_folder+title+'.inp'\n",
    "    materials = static_materials.copy()\n",
    "\n",
    "    Soil_Material = gen.Material(\"Soil\", 1, composition, '.01')\n",
    "    materials.append(Soil_Material)\n",
    "\n",
    "    mcnp = gen.sim(\n",
    "        title, \n",
    "        nps=1e7,\n",
    "        prdmp=[-60, -60, -1],\n",
    "        source=source,\n",
    "        tallies=tallies,\n",
    "        surfaces=surfaces,\n",
    "        materials=materials,\n",
    "        cells=cells,\n",
    "        )\n",
    "    print(filename)\n",
    "    with open(filename, 'w') as f:\n",
    "        f.write(str(mcnp))\n",
    "        f.close()\n",
    "\n",
    "    names.append(title)\n",
    "\n",
    "df = pd.DataFrame(compositions)\n",
    "df['name'] = names\n",
    "df.to_csv('filenames.csv', index=False)  \n",
    "df    "
   ]
  },
  {
   "cell_type": "code",
   "execution_count": null,
   "metadata": {},
   "outputs": [],
   "source": []
  },
  {
   "cell_type": "code",
   "execution_count": null,
   "metadata": {},
   "outputs": [],
   "source": []
  }
 ],
 "metadata": {
  "kernelspec": {
   "display_name": "Python 3",
   "language": "python",
   "name": "python3"
  },
  "language_info": {
   "codemirror_mode": {
    "name": "ipython",
    "version": 3
   },
   "file_extension": ".py",
   "mimetype": "text/x-python",
   "name": "python",
   "nbconvert_exporter": "python",
   "pygments_lexer": "ipython3",
   "version": "3.10.12"
  }
 },
 "nbformat": 4,
 "nbformat_minor": 2
}
