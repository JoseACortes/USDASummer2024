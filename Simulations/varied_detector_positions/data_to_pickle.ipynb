{
 "cells": [
  {
   "cell_type": "code",
   "execution_count": 1,
   "metadata": {},
   "outputs": [],
   "source": [
    "import os\n",
    "from mcnptools import Mctal, MctalTally\n",
    "import INS_Analysis as insd\n",
    "import numpy as np\n",
    "import pandas as pd"
   ]
  },
  {
   "cell_type": "markdown",
   "metadata": {},
   "source": [
    "# Generate Index"
   ]
  },
  {
   "cell_type": "code",
   "execution_count": 2,
   "metadata": {},
   "outputs": [],
   "source": [
    "trials_file = 'input/input_generation/filenames.csv'\n",
    "trials = pd.read_csv(trials_file)"
   ]
  },
  {
   "cell_type": "code",
   "execution_count": 3,
   "metadata": {},
   "outputs": [
    {
     "name": "stdout",
     "output_type": "stream",
     "text": [
      "n-trials:  8\n"
     ]
    }
   ],
   "source": [
    "file_prefix = 'output/mctal/'\n",
    "file_type = '.mctal'\n",
    "# check if the file exists\n",
    "filenames = []\n",
    "for index, row in trials.iterrows():\n",
    "    # print('loading', row['name'])\n",
    "    filename = file_prefix + row['name'] + file_type\n",
    "    # check if the file exists\n",
    "    if os.path.isfile(filename):\n",
    "        filenames.append(row['name'])\n",
    "filenames\n",
    "\n",
    "trials = trials[trials['name'].isin([os.path.basename(f) for f in filenames])]\n",
    "trials['filename'] = file_prefix + trials['name'] + file_type\n",
    "trials = trials.reset_index(drop=True)\n",
    "\n",
    "trials['ptrac_filename'] = 'output/ptrac/' + trials['name'] + '.ptrac'\n",
    "\n",
    "# first_n = 10\n",
    "# trials = trials.head(first_n)\n",
    "trials.reset_index(drop=False, inplace=True)\n",
    "print('n-trials: ', len(trials))"
   ]
  },
  {
   "cell_type": "code",
   "execution_count": 4,
   "metadata": {},
   "outputs": [],
   "source": [
    "trials.to_csv('trials.csv', index=False)"
   ]
  },
  {
   "cell_type": "markdown",
   "metadata": {},
   "source": [
    "# Numpy"
   ]
  },
  {
   "cell_type": "code",
   "execution_count": 5,
   "metadata": {},
   "outputs": [],
   "source": [
    "# progress bar for the loop\n",
    "from tqdm import tqdm\n",
    "tqdm.pandas()\n"
   ]
  },
  {
   "cell_type": "code",
   "execution_count": 6,
   "metadata": {},
   "outputs": [
    {
     "name": "stderr",
     "output_type": "stream",
     "text": [
      "100%|██████████| 8/8 [00:26<00:00,  3.37s/it]\n"
     ]
    }
   ],
   "source": [
    "spectrograms = []\n",
    "bins = None\n",
    "\n",
    "for filename in tqdm(trials['filename']):\n",
    "    bins, vals = insd.read(filename, tally=88, start_time_bin=0, end_time_bin=150, nps=1e8)\n",
    "    spectrograms.append(np.array(vals))\n",
    "\n",
    "spectrograms = np.array(spectrograms)\n",
    "bins = np.array(bins)"
   ]
  },
  {
   "cell_type": "code",
   "execution_count": 7,
   "metadata": {},
   "outputs": [],
   "source": [
    "np.savez('spectrograms.npz', x=bins, y=spectrograms)"
   ]
  },
  {
   "cell_type": "code",
   "execution_count": 8,
   "metadata": {},
   "outputs": [],
   "source": [
    "# load the data\n",
    "data = np.load('spectrograms.npz')"
   ]
  },
  {
   "cell_type": "code",
   "execution_count": 9,
   "metadata": {},
   "outputs": [
    {
     "name": "stderr",
     "output_type": "stream",
     "text": [
      "100%|██████████| 8/8 [00:03<00:00,  2.23it/s]\n"
     ]
    }
   ],
   "source": [
    "spectrums = []\n",
    "for filename in tqdm(trials['filename']):\n",
    "    bins, vals = insd.read(filename, tally=58, start_time_bin=0, end_time_bin=3, nps=1e8)\n",
    "    \n",
    "    spectrums.append(np.array(vals))\n",
    "\n",
    "spectrums = np.array(spectrums)"
   ]
  },
  {
   "cell_type": "code",
   "execution_count": 10,
   "metadata": {},
   "outputs": [],
   "source": [
    "np.savez('spectrums.npz', x=bins, y=spectrums)"
   ]
  },
  {
   "cell_type": "code",
   "execution_count": 11,
   "metadata": {},
   "outputs": [
    {
     "name": "stderr",
     "output_type": "stream",
     "text": [
      "100%|██████████| 8/8 [00:03<00:00,  2.23it/s]\n"
     ]
    }
   ],
   "source": [
    "gebless_spectrums = []\n",
    "for filename in tqdm(trials['filename']):\n",
    "    bins, vals = insd.read(filename, tally=18, start_time_bin=0, end_time_bin=3, nps=1e8)\n",
    "    \n",
    "    gebless_spectrums.append(np.array(vals))\n",
    "\n",
    "gebless_spectrums = np.array(gebless_spectrums)\n",
    "bins = np.array(bins)"
   ]
  },
  {
   "cell_type": "code",
   "execution_count": 12,
   "metadata": {},
   "outputs": [],
   "source": [
    "np.savez('gebless_spectrums.npz', x=bins, y=gebless_spectrums)"
   ]
  },
  {
   "cell_type": "code",
   "execution_count": null,
   "metadata": {},
   "outputs": [],
   "source": []
  }
 ],
 "metadata": {
  "kernelspec": {
   "display_name": "Python 3",
   "language": "python",
   "name": "python3"
  },
  "language_info": {
   "codemirror_mode": {
    "name": "ipython",
    "version": 3
   },
   "file_extension": ".py",
   "mimetype": "text/x-python",
   "name": "python",
   "nbconvert_exporter": "python",
   "pygments_lexer": "ipython3",
   "version": "3.10.12"
  }
 },
 "nbformat": 4,
 "nbformat_minor": 2
}
