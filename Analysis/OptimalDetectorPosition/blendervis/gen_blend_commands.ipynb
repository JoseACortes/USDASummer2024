{
 "cells": [
  {
   "cell_type": "code",
   "execution_count": 1,
   "metadata": {},
   "outputs": [],
   "source": [
    "import pandas as pd"
   ]
  },
  {
   "cell_type": "code",
   "execution_count": 2,
   "metadata": {},
   "outputs": [],
   "source": [
    "# when finished\n",
    "# trials = pd.read_csv('../../../Simulations/varied_detector_positions/trials.csv')\n",
    "\n",
    "# before finished\n",
    "trials = pd.read_csv('../../../Simulations/varied_detector_positions/input/input_generation/filenames.csv')"
   ]
  },
  {
   "cell_type": "code",
   "execution_count": 3,
   "metadata": {},
   "outputs": [],
   "source": [
    "def bash_render_script(name):\n",
    "    render_script = f'''blender -b empty.blend -P pyscripts/{name}.py -f 5 -F PNG\n",
    "    chmod u+w /tmp/0005.png\n",
    "    cp /tmp/0005.png ims/{name}.png'''\n",
    "    return render_script"
   ]
  },
  {
   "cell_type": "code",
   "execution_count": 4,
   "metadata": {},
   "outputs": [],
   "source": [
    "def generate_python_script(name):\n",
    "    script = f\"\"\"import bpy\n",
    "import numpy as np\n",
    "import mathutils\n",
    "import math\n",
    "import json\n",
    "\n",
    "with open('/home/jac2462@uta.edu/Documents/USDASummer2024/Simulations/varied_detector_positions/input/input_generation/world/surfaces/{name}surface.json') as f:\n",
    "    surfaces = json.load(f)\n",
    "    f.close()\n",
    "\n",
    "baseangle = mathutils.Vector((0, 0, 1))\n",
    "\n",
    "for surface in surfaces:\n",
    "    shape = surface[\"shape\"]\n",
    "    name = surface['surface_id']\n",
    "    if shape == \"sphere\":\n",
    "        bpy.ops.mesh.primitive_ico_sphere_add(\n",
    "            location=np.array(surface[\"params\"][\"pos\"])/100,\n",
    "            radius=np.array(surface[\"params\"][\"r\"])/100,\n",
    "            )\n",
    "        bpy.context.active_object.name = \"surface\"+ str(name)\n",
    "    elif shape == \"box\":\n",
    "        size = [surface[\"params\"][\"l\"], surface[\"params\"][\"w\"], surface[\"params\"][\"h\"]]\n",
    "        bpy.ops.mesh.primitive_cube_add(\n",
    "            size=1,\n",
    "            location=np.array(surface[\"params\"][\"pos\"])/100, \n",
    "            scale=np.array(size)/100,\n",
    "                )\n",
    "        bpy.context.active_object.name = \"surface\"+ str(name)\n",
    "    elif shape == \"cylinder\":\n",
    "        v = mathutils.Vector(surface[\"params\"][\"dir\"]) # convert to quaternion\n",
    "        v_ = v.rotation_difference(baseangle) # convert to angle\n",
    "        bpy.ops.mesh.primitive_cylinder_add(\n",
    "            location=np.array(surface[\"params\"][\"pos\"])/100, \n",
    "            depth=np.array(surface[\"params\"][\"height\"])/100, \n",
    "            rotation = v_.to_euler(),\n",
    "            radius = np.array(surface[\"params\"][\"r\"])/100,\n",
    "                )\n",
    "        bpy.context.active_object.name = \"surface\"+ str(name)\n",
    "\n",
    "# make detectors red\n",
    "\n",
    "highlight_mat = bpy.data.materials.new('detectors')\n",
    "highlight_mat.diffuse_color = (1, 0, 0, 1)\n",
    "\n",
    "obj_det1 = bpy.data.objects[\"surface2\"]\n",
    "obj_det1.data.materials.append(highlight_mat)\n",
    "obj_det1.active_material_index = len(obj_det1.data.materials) - 1 \n",
    "\n",
    "obj_det2 = bpy.data.objects[\"surface3\"]\n",
    "obj_det2.data.materials.append(highlight_mat)\n",
    "obj_det2.active_material_index = len(obj_det2.data.materials) - 1 \n",
    "\n",
    "obj_det3 = bpy.data.objects[\"surface4\"]\n",
    "obj_det3.data.materials.append(highlight_mat)\n",
    "obj_det3.active_material_index = len(obj_det3.data.materials) - 1 \n",
    "\n",
    "# move camera\n",
    "obj_camera = bpy.data.objects[\"Camera\"]\n",
    "obj_camera.location = (3, -1.7, 0)\n",
    "obj_camera.rotation_euler = (math.radians(0), math.radians(90), math.radians(0))\n",
    "\n",
    "# obj_light = bpy.data.objects[\"Light\"]\n",
    "# obj_light.location = (2.3, -1.7, -3.4)\n",
    "    \"\"\"\n",
    "    return script"
   ]
  },
  {
   "cell_type": "code",
   "execution_count": 5,
   "metadata": {},
   "outputs": [
    {
     "data": {
      "text/html": [
       "<div>\n",
       "<style scoped>\n",
       "    .dataframe tbody tr th:only-of-type {\n",
       "        vertical-align: middle;\n",
       "    }\n",
       "\n",
       "    .dataframe tbody tr th {\n",
       "        vertical-align: top;\n",
       "    }\n",
       "\n",
       "    .dataframe thead th {\n",
       "        text-align: right;\n",
       "    }\n",
       "</style>\n",
       "<table border=\"1\" class=\"dataframe\">\n",
       "  <thead>\n",
       "    <tr style=\"text-align: right;\">\n",
       "      <th></th>\n",
       "      <th>name</th>\n",
       "      <th>distance_from_shielding</th>\n",
       "      <th>distance_from_ground</th>\n",
       "    </tr>\n",
       "  </thead>\n",
       "  <tbody>\n",
       "    <tr>\n",
       "      <th>0</th>\n",
       "      <td>detector_dfs_0_dfg_30</td>\n",
       "      <td>0.0</td>\n",
       "      <td>30.000000</td>\n",
       "    </tr>\n",
       "    <tr>\n",
       "      <th>1</th>\n",
       "      <td>detector_dfs_0_dfg_33</td>\n",
       "      <td>0.0</td>\n",
       "      <td>33.333333</td>\n",
       "    </tr>\n",
       "    <tr>\n",
       "      <th>2</th>\n",
       "      <td>detector_dfs_0_dfg_36</td>\n",
       "      <td>0.0</td>\n",
       "      <td>36.666667</td>\n",
       "    </tr>\n",
       "    <tr>\n",
       "      <th>3</th>\n",
       "      <td>detector_dfs_0_dfg_40</td>\n",
       "      <td>0.0</td>\n",
       "      <td>40.000000</td>\n",
       "    </tr>\n",
       "    <tr>\n",
       "      <th>4</th>\n",
       "      <td>detector_dfs_0_dfg_43</td>\n",
       "      <td>0.0</td>\n",
       "      <td>43.333333</td>\n",
       "    </tr>\n",
       "  </tbody>\n",
       "</table>\n",
       "</div>"
      ],
      "text/plain": [
       "                    name  distance_from_shielding  distance_from_ground\n",
       "0  detector_dfs_0_dfg_30                      0.0             30.000000\n",
       "1  detector_dfs_0_dfg_33                      0.0             33.333333\n",
       "2  detector_dfs_0_dfg_36                      0.0             36.666667\n",
       "3  detector_dfs_0_dfg_40                      0.0             40.000000\n",
       "4  detector_dfs_0_dfg_43                      0.0             43.333333"
      ]
     },
     "execution_count": 5,
     "metadata": {},
     "output_type": "execute_result"
    }
   ],
   "source": [
    "trials.head()"
   ]
  },
  {
   "cell_type": "code",
   "execution_count": 6,
   "metadata": {},
   "outputs": [],
   "source": [
    "cmds = []\n",
    "for name in trials['name']:\n",
    "    with open(f'pyscripts/{name}.py', 'w') as f:\n",
    "        f.write(generate_python_script(name))\n",
    "        f.close()\n",
    "    with open(f'commands/{name}.sh', 'w') as f:\n",
    "        f.write(bash_render_script(name))\n",
    "        f.close()\n",
    "    cmds.append(f'bash commands/{name}.sh')\n",
    "\n",
    "with open('render_all.sh', 'w') as f:\n",
    "    f.write('\\n'.join(cmds))\n",
    "    f.close()\n"
   ]
  },
  {
   "cell_type": "code",
   "execution_count": null,
   "metadata": {},
   "outputs": [],
   "source": []
  },
  {
   "cell_type": "code",
   "execution_count": null,
   "metadata": {},
   "outputs": [],
   "source": []
  },
  {
   "cell_type": "code",
   "execution_count": null,
   "metadata": {},
   "outputs": [],
   "source": []
  }
 ],
 "metadata": {
  "kernelspec": {
   "display_name": "Python 3",
   "language": "python",
   "name": "python3"
  },
  "language_info": {
   "codemirror_mode": {
    "name": "ipython",
    "version": 3
   },
   "file_extension": ".py",
   "mimetype": "text/x-python",
   "name": "python",
   "nbconvert_exporter": "python",
   "pygments_lexer": "ipython3",
   "version": "3.10.12"
  }
 },
 "nbformat": 4,
 "nbformat_minor": 2
}
